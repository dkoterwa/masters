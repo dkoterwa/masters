{
 "cells": [
  {
   "cell_type": "markdown",
   "metadata": {},
   "source": [
    "# Functions\n",
    "* Write and test a function, which takes length of the base and height of a triangle and returns its area.\n",
    "* Write a function with two arguments, which returns perimeter and area of a regular polygon, with a number and length of edges as arguments."
   ]
  },
  {
   "cell_type": "code",
   "execution_count": 5,
   "metadata": {
    "collapsed": true
   },
   "outputs": [
    {
     "name": "stdout",
     "output_type": "stream",
     "text": [
      "10.0\n"
     ]
    }
   ],
   "source": [
    "def triangle_area(length, height):\n",
    "    area = (length * height)/2\n",
    "    return area\n",
    "\n",
    "print(triangle_area(10, 2))\n",
    "\n",
    "\n"
   ]
  },
  {
   "cell_type": "markdown",
   "metadata": {},
   "source": [
    "* Write and test a function, which returns a lambda function according to the chosen unit (\"F\" or \"C\"). It should calculate, how much energy is needed to raise the temperature of one kilogram of water by one degree (specific heat of water equals 4189,9 J/(kg\\*K)). Remember to take into account these cases, where the argument is wrong (return False or a default value)."
   ]
  },
  {
   "cell_type": "code",
   "execution_count": null,
   "metadata": {
    "collapsed": true
   },
   "outputs": [],
   "source": [
    "\n",
    "\n",
    "\n"
   ]
  },
  {
   "cell_type": "markdown",
   "metadata": {},
   "source": [
    "* Write a function which is an English-Polish translator of lists. Function should have optional argument \"inplace = False\". If inplace is True, function should translate words inside the list passed as an argument. If it is not True, a new list should be returned. Think about the proper solution for words not in the dictionary."
   ]
  },
  {
   "cell_type": "code",
   "execution_count": 1,
   "metadata": {
    "collapsed": true
   },
   "outputs": [],
   "source": [
    "enPl = {'have':'mieć', 'which':'który', 'make':'robić', 'can':'potrafić', 'know':'wiedzieć', 'take':'brać', 'people':'ludzie', 'year':'rok', 'good':'dobry', 'bad':'zły', 'look':'patrzeć' }\n",
    "toTranslate = ['good', 'look', 'make', 'can', 'year',  'becasue','mastermidn',  'have']"
   ]
  },
  {
   "cell_type": "code",
   "execution_count": 8,
   "metadata": {},
   "outputs": [],
   "source": [
    "\n",
    "def translate(lista, slownik, newList = []):\n",
    "\n",
    "    translated = [slownik[element] for element in lista if element in slownik]\n",
    "    return translated\n"
   ]
  },
  {
   "cell_type": "code",
   "execution_count": 18,
   "metadata": {},
   "outputs": [
    {
     "name": "stdout",
     "output_type": "stream",
     "text": [
      "802 ns ± 43.8 ns per loop (mean ± std. dev. of 7 runs, 30 loops each)\n"
     ]
    }
   ],
   "source": [
    "%timeit -n 30 l = translate(toTranslate, enPl)"
   ]
  },
  {
   "cell_type": "markdown",
   "metadata": {},
   "source": [
    "Profile your translator function using both %timeit and %prun."
   ]
  },
  {
   "cell_type": "markdown",
   "metadata": {},
   "source": [
    "* Write a FizzBuzz function. This function should print consecutive numbers from 1 to 50. If the number is divisible by 3 it should print \"Fizz\" instead of the number, if it is divisible by 5, \"Buzz\" should be printed."
   ]
  },
  {
   "cell_type": "code",
   "execution_count": 181,
   "metadata": {
    "collapsed": true
   },
   "outputs": [],
   "source": [
    "def FizzBuzz(n):\n",
    "    for i in range(1, n):\n",
    "        if i%3 == 0:\n",
    "            print(i, 'Fizz')\n",
    "        if i%5 == 0:\n",
    "            print(i, 'Buzz')"
   ]
  },
  {
   "cell_type": "markdown",
   "metadata": {},
   "source": [
    "* Modify the function above so that it would take arguments \"k\" and \"l\" instead of numbers 3 and 5."
   ]
  },
  {
   "cell_type": "code",
   "execution_count": 182,
   "metadata": {
    "collapsed": true
   },
   "outputs": [
    {
     "name": "stdout",
     "output_type": "stream",
     "text": [
      "3 Fizz\n",
      "5 Buzz\n",
      "6 Fizz\n",
      "9 Fizz\n",
      "10 Buzz\n",
      "12 Fizz\n",
      "15 Fizz\n",
      "15 Buzz\n",
      "18 Fizz\n",
      "20 Buzz\n",
      "21 Fizz\n",
      "24 Fizz\n",
      "25 Buzz\n",
      "27 Fizz\n",
      "30 Fizz\n",
      "30 Buzz\n",
      "33 Fizz\n",
      "35 Buzz\n",
      "36 Fizz\n",
      "39 Fizz\n",
      "40 Buzz\n",
      "42 Fizz\n",
      "45 Fizz\n",
      "45 Buzz\n",
      "48 Fizz\n"
     ]
    }
   ],
   "source": [
    "FizzBuzz(50)"
   ]
  },
  {
   "cell_type": "markdown",
   "metadata": {
    "collapsed": true
   },
   "source": [
    "# Objects\n",
    "* Create a \"person\" object with the following attributes: name, surname, age, gender, height, email.\n",
    "* Creating an object should require name, surname and email; other attributes are optional.\n",
    "* The \"person\" objects should have methods allowing for:\n",
    "    * Setting a value for gender, height and age.\n",
    "    * Calculating BMI if the required values are filled in; if not - print a message which tells the user to input these values."
   ]
  },
  {
   "cell_type": "code",
   "execution_count": 26,
   "metadata": {
    "collapsed": true
   },
   "outputs": [],
   "source": [
    "\n",
    "class person():\n",
    "     \n",
    "    raise_amount = 1.04\n",
    "    num_of_people = 0\n",
    "\n",
    "    def __init__(self, first, last, pay, email):\n",
    "        self.first = first\n",
    "        self.last = last\n",
    "        self.email = email\n",
    "        self.pay = pay\n",
    "        \n",
    "        person.num_of_people += 1\n",
    "\n",
    "    \n",
    "    def fullname(self):\n",
    "        return '{} {}'.format(self.first, self.last)\n",
    "    \n",
    "    def apply_raise(self):\n",
    "        self.pay = int(self.pay * self.raise_amount)\n",
    "        return self.pay\n",
    "\n",
    "    @staticmethod\n",
    "    def is_workday(day):\n",
    "        if day.weekday() == 5 or day.weekday() == 6:\n",
    "            return False\n",
    "        else:\n",
    "            return True\n",
    "    \n",
    "    @classmethod #class methods pass the class automatically as a first argument\n",
    "    def set_raise_amt(cls, amount):\n",
    "        cls.raise_amount = amount\n",
    "    \n",
    "    @classmethod\n",
    "    def from_string(cls, emp_str):\n",
    "        first, last, pay, mail = emp_str.split('-')\n",
    "        return cls(first, last, pay, mail)\n",
    "\n"
   ]
  },
  {
   "cell_type": "code",
   "execution_count": 17,
   "metadata": {},
   "outputs": [],
   "source": [
    "person1 = person('Dominik', 'Koterwa', 'd@', 1000)\n",
    "person1_string = \"Dominik-Koterwa-3000-d@\""
   ]
  },
  {
   "cell_type": "code",
   "execution_count": 20,
   "metadata": {},
   "outputs": [],
   "source": [
    "person2 = person.from_string(person1_string)"
   ]
  },
  {
   "cell_type": "code",
   "execution_count": 29,
   "metadata": {},
   "outputs": [
    {
     "name": "stdout",
     "output_type": "stream",
     "text": [
      "True\n"
     ]
    }
   ],
   "source": [
    "import datetime\n",
    "my_date = datetime.date(2016, 11, 10)\n",
    "print(person.is_workday(my_date))"
   ]
  }
 ],
 "metadata": {
  "kernelspec": {
   "display_name": "Python 3.8.8 ('base')",
   "language": "python",
   "name": "python3"
  },
  "language_info": {
   "codemirror_mode": {
    "name": "ipython",
    "version": 3
   },
   "file_extension": ".py",
   "mimetype": "text/x-python",
   "name": "python",
   "nbconvert_exporter": "python",
   "pygments_lexer": "ipython3",
   "version": "3.8.8"
  },
  "vscode": {
   "interpreter": {
    "hash": "f640a9078f8e092032cb0185e0c2b2c1ad2376cf3b94da3c4476fa7bf4b3609c"
   }
  }
 },
 "nbformat": 4,
 "nbformat_minor": 2
}
