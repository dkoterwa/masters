{
 "cells": [
  {
   "cell_type": "markdown",
   "metadata": {},
   "source": [
    "# Intro to Python - exercises\n",
    "When solving exercises in this course it is advised to sometimes search for necessary information on the Internet (google, stackoverflow etc.). Finding a solution to a problem using Internet in a skillful and fast way is crucial.\n",
    "\n",
    "## Basic variables and print\n",
    "* Create a basic Hello World program as follows: create two strings, one for each word. Create a third variable, which will concatenate two previous variables, and then show its contents."
   ]
  },
  {
   "cell_type": "code",
   "execution_count": 4,
   "metadata": {
    "collapsed": true
   },
   "outputs": [
    {
     "name": "stdout",
     "output_type": "stream",
     "text": [
      "Hello World\n"
     ]
    }
   ],
   "source": [
    "\n",
    "\n",
    "a = \"Hello\"\n",
    "b = \" World\"\n",
    "c = a+b\n",
    "print(c)"
   ]
  },
  {
   "cell_type": "markdown",
   "metadata": {},
   "source": [
    "## Lists\n",
    "Do following exercises about lists:\n",
    "* Create a list of three names.\n",
    "* Add a fourth name at the end of the list.\n",
    "* Add another name at the beginning of the list.\n",
    "* Delete third element from the list.\n",
    "* Show the number of elements on the list.\n",
    "* Using Python syntax to check if following names are on the list: Anna, John, Siegfried"
   ]
  },
  {
   "cell_type": "code",
   "execution_count": 19,
   "metadata": {
    "collapsed": true
   },
   "outputs": [
    {
     "name": "stdout",
     "output_type": "stream",
     "text": [
      "4\n"
     ]
    }
   ],
   "source": [
    "\n",
    "names = ['Dominik', 'Ania', 'Mateusz']\n",
    "names.append('Artur')\n",
    "names.insert(0, 'Kacper')\n",
    "names.pop(2)\n",
    "print(len(names))\n",
    "\n",
    "names2 = ['Anna', 'John', 'Siegfried']\n"
   ]
  },
  {
   "cell_type": "code",
   "execution_count": 20,
   "metadata": {},
   "outputs": [
    {
     "name": "stdout",
     "output_type": "stream",
     "text": [
      "name Kacper is not in both lists\n",
      "name Dominik is not in both lists\n",
      "name Mateusz is not in both lists\n",
      "name Artur is not in both lists\n"
     ]
    }
   ],
   "source": [
    "for element in names:\n",
    "    if element in names2:\n",
    "        print(f'name {element} is in both lists')\n",
    "    else:\n",
    "        print(f'name {element} is not in both lists')"
   ]
  },
  {
   "cell_type": "markdown",
   "metadata": {},
   "source": [
    "* Create a list containing your three lucky numbers.\n",
    "* Concatenate two lists.\n",
    "* Create a new list, which will be a list of all three lists available in the notebook.\n",
    "* Create a copy of the list of lists.\n",
    "* Clear the original list of lists.\n",
    "* Find Python 3.6 documentation for lists."
   ]
  },
  {
   "cell_type": "code",
   "execution_count": 28,
   "metadata": {
    "collapsed": true
   },
   "outputs": [
    {
     "name": "stdout",
     "output_type": "stream",
     "text": [
      "[1, 2, 3, 4, 5, 6, 7, 8, 9]\n"
     ]
    }
   ],
   "source": [
    "list1 = [1, 2, 3]\n",
    "list2 = [4, 5, 6]\n",
    "list1 + list2\n",
    "\n",
    "list3 = list1 + list2 + [7, 8, 9]\n",
    "list_copy = list3.copy()\n",
    "list3.clear\n",
    "print(list_copy)\n"
   ]
  },
  {
   "cell_type": "markdown",
   "metadata": {},
   "source": [
    "## Sets\n",
    "Create three sets of colors: colorsRainbow, colorsRGB, colorsCMYK, and do the following exercises:\n",
    "* Add white to rainbow.\n",
    "* Delete \"K\" color from CMYK.\n",
    "* Create a set of these colors, which are both in rainbow and RGB.\n",
    "* Create a set of these colors, which are in rainbow and are not in CMYK.\n",
    "* Create a set which contains colors from all sets.\n",
    "* Make a list of the set of all colors."
   ]
  },
  {
   "cell_type": "code",
   "execution_count": 44,
   "metadata": {
    "collapsed": true
   },
   "outputs": [
    {
     "name": "stdout",
     "output_type": "stream",
     "text": [
      "['red', 'white', '55', 'orange', '33', '44', 'A', 'C', 'B', 'yellow']\n"
     ]
    }
   ],
   "source": [
    "colorsRainbow = ['yellow', 'orange', 'red']\n",
    "colorsRGB = ['33', '44', '55', 'red', 'orange']\n",
    "colorsCMYK = ['A', 'B', 'C', 'red', 'K']\n",
    "\n",
    "set1 = set(colorsRainbow)\n",
    "set2 = set(colorsRGB)\n",
    "set3 = set(colorsCMYK)\n",
    "\n",
    "set1.add('white')\n",
    "set3.discard('K')\n",
    "\n",
    "set4 = set1 & set2\n",
    "set5 = set1 - set3\n",
    "\n",
    "set6 = set1 | set2 | set3\n",
    "\n",
    "list_of_collors = list(set6)\n",
    "print(list_of_collors)\n",
    "\n"
   ]
  },
  {
   "cell_type": "markdown",
   "metadata": {},
   "source": [
    "## Dictionaries\n",
    "Create an English-Polish (or another foreign language) dictionary, which contains your three favorite English words and then:\n",
    "* Add \"author\", which will contain your first name and surname.\n",
    "* Delete the second added word from dictionary.\n",
    "* Create a dictionary, which will be a translation of the previous dictionary. (inverse dictionaries)\n",
    "* Concatenate two existing dictionaries.\n",
    "* Find Python 3.6 documentation for dictionaries."
   ]
  },
  {
   "cell_type": "code",
   "execution_count": 63,
   "metadata": {
    "collapsed": true
   },
   "outputs": [
    {
     "data": {
      "text/plain": [
       "{'make': 'zrobic',\n",
       " 'bake': 'piec',\n",
       " 'dance': 'tanczyc',\n",
       " 'zrobic': 'make',\n",
       " 'piec': 'bake',\n",
       " 'tanczyc': 'dance'}"
      ]
     },
     "execution_count": 63,
     "metadata": {},
     "output_type": "execute_result"
    }
   ],
   "source": [
    "english_polish_dict = {'make': 'zrobic', 'bake': 'piec', 'dance': 'tanczyc'}\n",
    "english_polish_dict['author'] = 'Dominik Koterwa'\n",
    "english_polish_dict.pop('author')\n",
    "\n",
    "\n",
    "inv_dict = {v: k for k, v in english_polish_dict.items()}\n",
    "\n",
    "english_polish_dict | inv_dict"
   ]
  },
  {
   "cell_type": "markdown",
   "metadata": {},
   "source": [
    "## Tuples\n",
    "Create the following two tuples:\n",
    "* Tuple containing your name, surname and year of birth.\n",
    "* Tuple containing three lists: colorsRainbow, colorsRGB, colorsCMYK."
   ]
  },
  {
   "cell_type": "code",
   "execution_count": 65,
   "metadata": {
    "collapsed": true
   },
   "outputs": [],
   "source": [
    "tuple_info = ('Dominik', 'Koterwa', '2000')\n",
    "tuple_colors = tuple([colorsRainbow, colorsRGB, colorsCMYK])"
   ]
  }
 ],
 "metadata": {
  "kernelspec": {
   "display_name": "Python 3.9.6 64-bit",
   "language": "python",
   "name": "python3"
  },
  "language_info": {
   "codemirror_mode": {
    "name": "ipython",
    "version": 3
   },
   "file_extension": ".py",
   "mimetype": "text/x-python",
   "name": "python",
   "nbconvert_exporter": "python",
   "pygments_lexer": "ipython3",
   "version": "3.9.6"
  },
  "vscode": {
   "interpreter": {
    "hash": "31f2aee4e71d21fbe5cf8b01ff0e069b9275f58929596ceb00d14d90e3e16cd6"
   }
  }
 },
 "nbformat": 4,
 "nbformat_minor": 2
}
