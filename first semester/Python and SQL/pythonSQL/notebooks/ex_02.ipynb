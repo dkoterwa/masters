{
 "cells": [
  {
   "cell_type": "markdown",
   "metadata": {},
   "source": [
    "# Flow control - exercises\n",
    "## For and iterators\n",
    "\n",
    "* Print 5 consecutive numbers which are greater than 247 and divisible by 3.\n",
    "* Print all colors of rainbow."
   ]
  },
  {
   "cell_type": "code",
   "execution_count": 10,
   "metadata": {},
   "outputs": [
    {
     "name": "stdout",
     "output_type": "stream",
     "text": [
      "249\n",
      "252\n",
      "255\n",
      "258\n",
      "261\n"
     ]
    }
   ],
   "source": [
    "\n",
    "initial = 247\n",
    "counter = 1\n",
    "\n",
    "while counter <= 5:\n",
    "    if initial % 3 == 0:\n",
    "        counter += 1\n",
    "        print(initial)\n",
    "    initial += 1\n",
    "\n"
   ]
  },
  {
   "cell_type": "code",
   "execution_count": 2,
   "metadata": {
    "collapsed": true
   },
   "outputs": [
    {
     "name": "stdout",
     "output_type": "stream",
     "text": [
      "red\n",
      "orange\n",
      "yellow\n",
      "green\n",
      "blue\n",
      "indigo\n",
      "violet\n"
     ]
    }
   ],
   "source": [
    "rainbow = ['red', 'orange', 'yellow', 'green', 'blue', 'indigo', 'violet']\n",
    "\n",
    "for color in rainbow:\n",
    "    print(color)\n"
   ]
  },
  {
   "cell_type": "markdown",
   "metadata": {},
   "source": [
    "* Create a list of your three favorite numbers, and then (using enumerate) modify a list in such a way that new values are equal to the old value multiplied by its index. For every number print its old and new value."
   ]
  },
  {
   "cell_type": "code",
   "execution_count": 3,
   "metadata": {
    "collapsed": true
   },
   "outputs": [
    {
     "name": "stdout",
     "output_type": "stream",
     "text": [
      "8 0\n",
      "28 28\n",
      "88 176\n"
     ]
    }
   ],
   "source": [
    "numbers_list = [8, 28, 88]\n",
    "\n",
    "for i, number in enumerate(numbers_list):\n",
    "    number_new = number * i\n",
    "    print(number, number_new)"
   ]
  },
  {
   "cell_type": "markdown",
   "metadata": {},
   "source": [
    "* Using zip() print names and surnames of movie protagonists."
   ]
  },
  {
   "cell_type": "code",
   "execution_count": 5,
   "metadata": {
    "collapsed": true
   },
   "outputs": [
    {
     "name": "stdout",
     "output_type": "stream",
     "text": [
      "Grzegorz Brzęczyszczykiewicz\n",
      "Zdzisław Dyrman\n",
      "Ryszard Ochódzki\n"
     ]
    }
   ],
   "source": [
    "names = ['Grzegorz', 'Zdzisław', 'Ryszard']\n",
    "surnames = ['Brzęczyszczykiewicz', 'Dyrman', 'Ochódzki']\n",
    "\n",
    "for name, surname in zip (names, surnames):\n",
    "    print (name, surname)\n",
    "\n"
   ]
  },
  {
   "cell_type": "markdown",
   "metadata": {},
   "source": [
    "## List comprehension\n",
    "* Using list comprehensions create a list of letters which are not vowels."
   ]
  },
  {
   "cell_type": "code",
   "execution_count": 12,
   "metadata": {
    "collapsed": true
   },
   "outputs": [
    {
     "name": "stdout",
     "output_type": "stream",
     "text": [
      "['T', 'h', ' ', 'q', 'c', 'k', ' ', 'b', 'r', 'w', 'n', ' ', 'f', 'x', ' ', 'j', 'm', 'p', 's', ' ', 'v', 'r', ' ', 't', 'h', ' ', 'l', 'z', 'y', ' ', 'd', 'g', '.']\n"
     ]
    }
   ],
   "source": [
    "sentence = \"The quick brown fox jumps over the lazy dog.\"\n",
    "vowels = 'aeiou'\n",
    "\n",
    "letters = [i for i in sentence if i not in (vowels)]\n",
    "print(letters)\n",
    "\n"
   ]
  },
  {
   "cell_type": "markdown",
   "metadata": {},
   "source": [
    "* Choose numbers between 2 and 37 (inclusive) which have a remainder of 1 when divided by 3, and raise them to the power of 2."
   ]
  },
  {
   "cell_type": "code",
   "execution_count": null,
   "metadata": {
    "collapsed": true
   },
   "outputs": [],
   "source": []
  },
  {
   "cell_type": "markdown",
   "metadata": {},
   "source": [
    "## If and while\n",
    "* For every element on the list below, using if, elif and else: if element is a string: print it; if it is a float greater than 0: print \"Float, OK\"; if it is an even int print \"Even int\", in every other case print \"else\"."
   ]
  },
  {
   "cell_type": "code",
   "execution_count": 20,
   "metadata": {},
   "outputs": [
    {
     "data": {
      "text/plain": [
       "str"
      ]
     },
     "execution_count": 20,
     "metadata": {},
     "output_type": "execute_result"
    }
   ],
   "source": [
    "type(theList[3])"
   ]
  },
  {
   "cell_type": "code",
   "execution_count": 24,
   "metadata": {
    "collapsed": true
   },
   "outputs": [
    {
     "name": "stdout",
     "output_type": "stream",
     "text": [
      "Even, int\n",
      "Float, OK\n",
      "else\n",
      "element\n",
      "else\n"
     ]
    }
   ],
   "source": [
    "theList = [2, 2.5, 3, \"element\", -3.532]\n",
    "\n",
    "\n",
    "\n",
    "for element in theList:\n",
    "    if type(element) == str:\n",
    "        print(element)\n",
    "    elif type(element) == float and element > 0:\n",
    "        print('Float, OK')\n",
    "    elif type(element) == int and element%2 == 0:\n",
    "        print('Even, int')\n",
    "    else:\n",
    "        print('else')\n",
    "# Hint: type(x)"
   ]
  },
  {
   "cell_type": "markdown",
   "metadata": {},
   "source": [
    "* Print consecutive Fibonacci numbers as long as sum of previous elements is lower than 100."
   ]
  },
  {
   "cell_type": "code",
   "execution_count": null,
   "metadata": {
    "collapsed": true
   },
   "outputs": [],
   "source": []
  },
  {
   "cell_type": "markdown",
   "metadata": {},
   "source": [
    "* Sum of a following geometric series: 1, 0.5, 0.25... equals 2. Using while and break check if more than 100 elements are required to get a difference between sum elements and 2 which is lower than 0.001. If yes - how many elements are required?"
   ]
  },
  {
   "cell_type": "code",
   "execution_count": null,
   "metadata": {
    "collapsed": true
   },
   "outputs": [],
   "source": []
  }
 ],
 "metadata": {
  "kernelspec": {
   "display_name": "Python 3.9.6 64-bit",
   "language": "python",
   "name": "python3"
  },
  "language_info": {
   "codemirror_mode": {
    "name": "ipython",
    "version": 3
   },
   "file_extension": ".py",
   "mimetype": "text/x-python",
   "name": "python",
   "nbconvert_exporter": "python",
   "pygments_lexer": "ipython3",
   "version": "3.9.6"
  },
  "vscode": {
   "interpreter": {
    "hash": "31f2aee4e71d21fbe5cf8b01ff0e069b9275f58929596ceb00d14d90e3e16cd6"
   }
  }
 },
 "nbformat": 4,
 "nbformat_minor": 2
}
