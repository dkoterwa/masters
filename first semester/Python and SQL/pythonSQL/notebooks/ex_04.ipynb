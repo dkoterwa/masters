{
 "cells": [
  {
   "cell_type": "markdown",
   "metadata": {
    "deletable": true,
    "editable": true
   },
   "source": [
    "# Numpy - exercises\n",
    "## Creating objects\n",
    "Create the following objects:\n",
    "* 10-element, 0-dimensional vector of zeros.\n",
    "* 8-element, 1-dimensional vector of ones.\n",
    "* 12-element matrix filled with numbers from 2 to 14.\n",
    "* just as above, but make sure that the numbers are integers."
   ]
  },
  {
   "cell_type": "code",
   "execution_count": 10,
   "metadata": {
    "collapsed": true,
    "deletable": true,
    "editable": true
   },
   "outputs": [
    {
     "data": {
      "text/plain": [
       "array([ 8.5992788 ,  2.16932491,  7.71127668,  4.55205542,  9.78129239,\n",
       "       12.55673211,  5.38435896,  7.58688424,  6.14441288,  8.2929167 ,\n",
       "        5.26861668,  8.63273474])"
      ]
     },
     "execution_count": 10,
     "metadata": {},
     "output_type": "execute_result"
    }
   ],
   "source": [
    "import numpy as np\n",
    "zero_vector = np.zeros(10)\n",
    "ones_vector = np.ones(8)\n",
    "numbers = np.random.rand()\n",
    "numbers = np.random.uniform(low = 2, high = 14, size = (12, ))\n",
    "numbers_int = np.random.randint(2, 14, size = (12,))"
   ]
  },
  {
   "cell_type": "markdown",
   "metadata": {
    "deletable": true,
    "editable": true
   },
   "source": [
    "Create the following objects:\n",
    "* Matrix of dimensions 4,5 filled with random numbers from distribution U~[0,1)\n",
    "* Matrix of dimensions 3,6 filled with random numbers from distribution N~(0,1)\n",
    "* Matrix of dimensions 2,5,6 filled with random numbers from beta distribution (0.5, 0.5)"
   ]
  },
  {
   "cell_type": "code",
   "execution_count": 17,
   "metadata": {
    "collapsed": true,
    "deletable": true,
    "editable": true
   },
   "outputs": [],
   "source": [
    "a = np.random.uniform(size = (4,5))\n",
    "b = np.random.normal(size = (3, 6))\n",
    "c = np.random.normal(0.5, 0.5, size = (2, 5 ,6))\n"
   ]
  },
  {
   "cell_type": "markdown",
   "metadata": {
    "deletable": true,
    "editable": true
   },
   "source": [
    "Transform the last matrix from the previous cell:\n",
    "* Change its dimension to (x, 6) in such a way that numpy infers x.\n",
    "* Split it to two halves vertically.\n",
    "* Split one of the halves horizotally, so you get two quarters (A and B)\n",
    "* Transform A to a one- and two-dimensional vector in two ways (in both cases): without copying and with copying.\n",
    "* Transform A and B to shape (x, 2) and concatenate them vertically and horizontally."
   ]
  },
  {
   "cell_type": "code",
   "execution_count": null,
   "metadata": {
    "collapsed": true,
    "deletable": true,
    "editable": true
   },
   "outputs": [],
   "source": [
    "c = c.reshape(-1, 6)\n",
    "d, e = np.split(c, 2, axis = 1)"
   ]
  },
  {
   "cell_type": "markdown",
   "metadata": {
    "deletable": true,
    "editable": true
   },
   "source": [
    "Sort the last matrix in four different ways (by rows/by columns, ascending/descending)."
   ]
  },
  {
   "cell_type": "code",
   "execution_count": 30,
   "metadata": {
    "collapsed": true,
    "deletable": true,
    "editable": true
   },
   "outputs": [
    {
     "data": {
      "text/plain": [
       "array([[0.00703328, 0.52066035, 0.80422388, 0.93250392, 0.97501258],\n",
       "       [0.20522887, 0.59562903, 0.70433371, 0.7713063 , 0.8905789 ],\n",
       "       [0.04148857, 0.08626363, 0.17458738, 0.35224804, 0.5179012 ],\n",
       "       [0.03451078, 0.05417223, 0.32727286, 0.35088279, 0.88284331]])"
      ]
     },
     "execution_count": 30,
     "metadata": {},
     "output_type": "execute_result"
    }
   ],
   "source": [
    "np.sort(a, axis = 0)\n",
    "np.sort(a, axis = 1)"
   ]
  },
  {
   "cell_type": "code",
   "execution_count": 31,
   "metadata": {},
   "outputs": [
    {
     "data": {
      "text/plain": [
       "array([[0.80422388, 0.93250392, 0.97501258, 0.00703328, 0.52066035],\n",
       "       [0.20522887, 0.70433371, 0.59562903, 0.8905789 , 0.7713063 ],\n",
       "       [0.17458738, 0.5179012 , 0.04148857, 0.35224804, 0.08626363],\n",
       "       [0.05417223, 0.32727286, 0.88284331, 0.35088279, 0.03451078]])"
      ]
     },
     "execution_count": 31,
     "metadata": {},
     "output_type": "execute_result"
    }
   ],
   "source": [
    "a"
   ]
  },
  {
   "cell_type": "markdown",
   "metadata": {
    "deletable": true,
    "editable": true
   },
   "source": [
    "Implement two-dimenstional Rosenbrock function (https://en.wikipedia.org/wiki/Rosenbrock_function) in two ways: using np.apply_along_axis and for loop.\n",
    "Compare how fast the two implementations are."
   ]
  },
  {
   "cell_type": "code",
   "execution_count": null,
   "metadata": {
    "collapsed": true,
    "deletable": true,
    "editable": true
   },
   "outputs": [],
   "source": [
    "x = random.normal(size=(10000, 2))\n",
    "\n"
   ]
  }
 ],
 "metadata": {
  "kernelspec": {
   "display_name": "Python 3.8.8 ('base')",
   "language": "python",
   "name": "python3"
  },
  "language_info": {
   "codemirror_mode": {
    "name": "ipython",
    "version": 3
   },
   "file_extension": ".py",
   "mimetype": "text/x-python",
   "name": "python",
   "nbconvert_exporter": "python",
   "pygments_lexer": "ipython3",
   "version": "3.8.8"
  },
  "vscode": {
   "interpreter": {
    "hash": "f640a9078f8e092032cb0185e0c2b2c1ad2376cf3b94da3c4476fa7bf4b3609c"
   }
  }
 },
 "nbformat": 4,
 "nbformat_minor": 2
}
